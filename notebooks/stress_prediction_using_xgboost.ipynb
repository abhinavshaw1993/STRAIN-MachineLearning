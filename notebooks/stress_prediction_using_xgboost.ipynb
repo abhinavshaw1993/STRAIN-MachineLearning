{
 "cells": [
  {
   "cell_type": "code",
   "execution_count": 1,
   "metadata": {},
   "outputs": [
    {
     "name": "stderr",
     "output_type": "stream",
     "text": [
      "C:\\Users\\Abhinav Shaw\\Anaconda3\\lib\\site-packages\\sklearn\\cross_validation.py:41: DeprecationWarning: This module was deprecated in version 0.18 in favor of the model_selection module into which all the refactored classes and functions are moved. Also note that the interface of the new CV iterators are different from that of this module. This module will be removed in 0.20.\n",
      "  \"This module will be removed in 0.20.\", DeprecationWarning)\n"
     ]
    }
   ],
   "source": [
    "%run data_getter_and_processor.ipynb\n",
    "import xgboost \n",
    "import numpy as np\n",
    "from sklearn.svm import SVC\n",
    "from sklearn.metrics import accuracy_score\n",
    "from sklearn.metrics import f1_score\n",
    "from sklearn.metrics import precision_score\n",
    "from sklearn.metrics import recall_score\n",
    "from sklearn.preprocessing import scale\n",
    "\n",
    "# Obtain Training and testing data.\n",
    "train_x, test_x, train_y, test_y = get_split_train_data(random_state=10)"
   ]
  },
  {
   "cell_type": "code",
   "execution_count": 5,
   "metadata": {},
   "outputs": [],
   "source": [
    "from sklearn.preprocessing import PolynomialFeatures\n",
    "\n",
    "# Xgboost without fixing class imbalance.\n",
    "# Processing the data to fix imballance of classes.\n",
    "worst_stress_levels = train_y.loc[:, \"worst_stress_level\"]\n",
    "# balanced_train_x, worst_stress_levels = get_balanced_dataset_by_hybrid_approach(train_x, worst_stress_levels)\n",
    "balanced_train_x, worst_stress_levels = train_x, worst_stress_levels\n",
    "\n",
    "\n",
    "# # applying basis expansion.\n",
    "# poly = PolynomialFeatures(degree=2 ,interaction_only=True)\n",
    "# balanced_train_x = poly.fit_transform(balanced_train_x, worst_stress_levels)\n",
    "# test_x = poly.fit_transform(test_x, test_y)\n",
    "\n",
    "# Scaling the data.\n",
    "balanced_train_x = scale(balanced_train_x)\n",
    "test_x = scale(test_x)\n",
    "\n",
    "# Xgboost code.\n",
    "dtrain = xgboost.DMatrix(balanced_train_x, label=worst_stress_levels)\n",
    "param = {'max_depth': 9, 'eta': 1, 'silent': 1, 'objective': 'multi:softmax','rate_drop': 0.1,'skip_drop': 0.5, 'lambda': 1.5}\n",
    "param['nthread'] = 4\n",
    "param['eval_metric'] = 'mlogloss'\n",
    "param['num_class'] = 5\n",
    "param['booster'] = 'dart'\n",
    "\n",
    "evallist = [(test_x, 'eval'), (dtrain, 'train')]\n",
    "num_round = 20\n",
    "\n",
    "# Training Xgboost.\n",
    "bst = xgboost.train(param, dtrain, num_round)\n",
    "dtest = xgboost.DMatrix(test_x)\n",
    "ypred = bst.predict(dtest)"
   ]
  },
  {
   "cell_type": "code",
   "execution_count": 6,
   "metadata": {},
   "outputs": [
    {
     "name": "stdout",
     "output_type": "stream",
     "text": [
      "Worst stress levels accuracy is 50.6024096386 %\n",
      "Worst stress levels f_1 score  [ 0.42666667  0.35164835  0.62992126  0.38235294  0.2       ]\n",
      "Worst stress levels precision score  [ 0.43243243  0.4         0.57971014  0.39393939  1.        ]\n",
      "Worst stress levels recall score  [ 0.42105263  0.31372549  0.68965517  0.37142857  0.11111111]\n",
      "[ 1.  2.  2.  3.  0.  2.  2.  2.  2.  2.  2.  2.  2.  1.  2.  0.  2.  3.\n",
      "  2.  0.  1.  0.  2.  2.  3.  1.  2.  2.  2.  0.  2.  2.  2.  2.  3.  2.\n",
      "  2.  2.  2.  0.  2.  2.  2.  1.  2.  2.  2.  0.  2.  0.  3.  2.  1.  2.\n",
      "  2.  2.  3.  3.  2.  2.  1.  2.  2.  0.  2.  2.  3.  2.  1.  0.  1.  2.\n",
      "  3.  2.  2.  2.  2.  2.  2.  2.  2.  2.  2.  2.  1.  2.  1.  2.  1.  0.\n",
      "  3.  2.  0.  2.  2.  2.  0.  1.  3.  2.  2.  2.  3.  2.  0.  3.  2.  1.\n",
      "  0.  1.  2.  0.  3.  2.  1.  0.  1.  1.  2.  2.  2.  2.  3.  2.  2.  2.\n",
      "  0.  3.  1.  2.  3.  0.  3.  2.  3.  0.  3.  2.  0.  0.  2.  1.  2.  2.\n",
      "  1.  3.  1.  2.  3.  1.  1.  4.  2.  1.  1.  2.  2.  0.  2.  2.  0.  2.\n",
      "  1.  0.  1.  1.  3.  1.  2.  0.  2.  2.  3.  2.  2.  1.  2.  1.  3.  2.\n",
      "  2.  3.  2.  2.  2.  2.  2.  2.  1.  2.  3.  1.  2.  2.  2.  2.  0.  2.\n",
      "  1.  0.  0.  2.  2.  1.  0.  2.  2.  2.  2.  2.  0.  2.  2.  1.  3.  2.\n",
      "  2.  3.  2.  2.  2.  2.  3.  2.  1.  2.  0.  2.  2.  0.  2.  2.  1.  0.\n",
      "  2.  3.  2.  2.  2.  0.  2.  1.  2.  3.  0.  2.  2.  3.  0.]\n"
     ]
    }
   ],
   "source": [
    "# Evaluate.\n",
    "from IPython.display import display\n",
    "\n",
    "ypred_df = pd.DataFrame(ypred)\n",
    "\n",
    "score = accuracy_score(test_y.loc[:,\"worst_stress_level\"], ypred_df, normalize=True)\n",
    "f1 = f1_score(test_y.iloc[:,0], ypred_df, average=None)\n",
    "p_score = precision_score(test_y.iloc[:,0], ypred_df, average=None)\n",
    "r_score = recall_score(test_y.iloc[:,0], ypred_df, average=None)\n",
    "\n",
    "print(\"Worst stress levels accuracy is \"+ str(score * 100) + \" %\")\n",
    "print(\"Worst stress levels f_1 score \", f1)\n",
    "print(\"Worst stress levels precision score \", p_score)\n",
    "print(\"Worst stress levels recall score \", r_score)\n",
    "print(np.array(ypred))"
   ]
  }
 ],
 "metadata": {
  "kernelspec": {
   "display_name": "Python 3",
   "language": "python",
   "name": "python3"
  },
  "language_info": {
   "codemirror_mode": {
    "name": "ipython",
    "version": 3
   },
   "file_extension": ".py",
   "mimetype": "text/x-python",
   "name": "python",
   "nbconvert_exporter": "python",
   "pygments_lexer": "ipython3",
   "version": "3.6.4"
  }
 },
 "nbformat": 4,
 "nbformat_minor": 2
}
