{
 "cells": [
  {
   "cell_type": "code",
   "execution_count": 16,
   "metadata": {},
   "outputs": [
    {
     "name": "stdout",
     "output_type": "stream",
     "text": [
      "last slice Index [  248 14761 21437]\n"
     ]
    }
   ],
   "source": [
    "import pandas as pd\n",
    "from IPython.display import display\n",
    "import torch\n",
    "import torch.nn as nn\n",
    "from torch.autograd import Variable\n",
    "\n",
    "raw_activity_train_x = pd.read_csv(\"Data/activity_train_x\",index_col=0)\n",
    "raw_activity_train_y = pd.read_csv(\"Data/activity_train_y\",index_col=0)\n",
    "\n",
    "# Selecting subset of data. Upto two training examples.\n",
    "\n",
    "raw_activity_train_x = raw_activity_train_x.iloc[5:]\n",
    "raw_activity_train_y = raw_activity_train_y.iloc[5:]\n",
    "\n",
    "# Restiing Index.\n",
    "raw_activity_train_x.reset_index(drop=True, inplace=True)\n",
    "raw_activity_train_y.reset_index(drop=True, inplace=True)\n",
    "\n",
    "# Finding Indexes for the target outputs.\n",
    "notnull_filter = raw_activity_train_y.iloc[:,0].notnull()\n",
    "\n",
    "indices = raw_activity_train_y[notnull_filter].index.values\n",
    "indices = indices[:3]\n",
    "\n",
    "print(\"last slice Index\", indices)"
   ]
  },
  {
   "cell_type": "code",
   "execution_count": 17,
   "metadata": {},
   "outputs": [
    {
     "data": {
      "text/html": [
       "<div>\n",
       "<style scoped>\n",
       "    .dataframe tbody tr th:only-of-type {\n",
       "        vertical-align: middle;\n",
       "    }\n",
       "\n",
       "    .dataframe tbody tr th {\n",
       "        vertical-align: top;\n",
       "    }\n",
       "\n",
       "    .dataframe thead th {\n",
       "        text-align: right;\n",
       "    }\n",
       "</style>\n",
       "<table border=\"1\" class=\"dataframe\">\n",
       "  <thead>\n",
       "    <tr style=\"text-align: right;\">\n",
       "      <th></th>\n",
       "      <th>0.0</th>\n",
       "    </tr>\n",
       "  </thead>\n",
       "  <tbody>\n",
       "    <tr>\n",
       "      <th>21433</th>\n",
       "      <td>0.0</td>\n",
       "    </tr>\n",
       "    <tr>\n",
       "      <th>21434</th>\n",
       "      <td>0.0</td>\n",
       "    </tr>\n",
       "    <tr>\n",
       "      <th>21435</th>\n",
       "      <td>0.0</td>\n",
       "    </tr>\n",
       "    <tr>\n",
       "      <th>21436</th>\n",
       "      <td>0.0</td>\n",
       "    </tr>\n",
       "    <tr>\n",
       "      <th>21437</th>\n",
       "      <td>0.0</td>\n",
       "    </tr>\n",
       "  </tbody>\n",
       "</table>\n",
       "</div>"
      ],
      "text/plain": [
       "       0.0\n",
       "21433  0.0\n",
       "21434  0.0\n",
       "21435  0.0\n",
       "21436  0.0\n",
       "21437  0.0"
      ]
     },
     "metadata": {},
     "output_type": "display_data"
    },
    {
     "data": {
      "text/html": [
       "<div>\n",
       "<style scoped>\n",
       "    .dataframe tbody tr th:only-of-type {\n",
       "        vertical-align: middle;\n",
       "    }\n",
       "\n",
       "    .dataframe tbody tr th {\n",
       "        vertical-align: top;\n",
       "    }\n",
       "\n",
       "    .dataframe thead th {\n",
       "        text-align: right;\n",
       "    }\n",
       "</style>\n",
       "<table border=\"1\" class=\"dataframe\">\n",
       "  <thead>\n",
       "    <tr style=\"text-align: right;\">\n",
       "      <th></th>\n",
       "      <th>1.0</th>\n",
       "    </tr>\n",
       "  </thead>\n",
       "  <tbody>\n",
       "    <tr>\n",
       "      <th>21433</th>\n",
       "      <td>NaN</td>\n",
       "    </tr>\n",
       "    <tr>\n",
       "      <th>21434</th>\n",
       "      <td>NaN</td>\n",
       "    </tr>\n",
       "    <tr>\n",
       "      <th>21435</th>\n",
       "      <td>NaN</td>\n",
       "    </tr>\n",
       "    <tr>\n",
       "      <th>21436</th>\n",
       "      <td>NaN</td>\n",
       "    </tr>\n",
       "    <tr>\n",
       "      <th>21437</th>\n",
       "      <td>1.0</td>\n",
       "    </tr>\n",
       "  </tbody>\n",
       "</table>\n",
       "</div>"
      ],
      "text/plain": [
       "       1.0\n",
       "21433  NaN\n",
       "21434  NaN\n",
       "21435  NaN\n",
       "21436  NaN\n",
       "21437  1.0"
      ]
     },
     "metadata": {},
     "output_type": "display_data"
    }
   ],
   "source": [
    "# Selecting new subset of data.\n",
    "activity_train_x = raw_activity_train_x.iloc[:indices[-1]+1]\n",
    "activity_train_y = raw_activity_train_y.iloc[:indices[-1]+1]\n",
    "\n",
    "# Display head.\n",
    "display(activity_train_x.tail())\n",
    "display(activity_train_y.tail())"
   ]
  },
  {
   "cell_type": "code",
   "execution_count": 19,
   "metadata": {},
   "outputs": [],
   "source": [
    "import numpy as np\n",
    "\n",
    "# Finding Indexes for the target outputs. Then we convert it into\n",
    "# into a tensor.\n",
    "notnull_filter = activity_train_y.iloc[:,0].notnull()\n",
    "# notnull_filter = notnull_filter.as_matrix()\n",
    "# mask = torch.from_numpy(notnull_filter.astype(int))\n",
    "\n",
    "# idx = np.argwhere(notnull_filter)\n",
    "\n",
    "# Converting to numpy array.\n",
    "np_activity_train_x = activity_train_x.as_matrix()\n",
    "np_activity_train_x = np_activity_train_x.reshape((np_activity_train_x.shape[0],1,1))\n",
    "np_activity_train_y = activity_train_y[notnull_filter].as_matrix()\n",
    "np_activity_train_y = np_activity_train_y.reshape((np_activity_train_y.shape[0],1,1))\n",
    "\n",
    "#Initializing Input Seq and Target Seq.\n",
    "input_seq = Variable(torch.from_numpy(np_activity_train_x ), requires_grad=False).float()\n",
    "target = Variable(torch.from_numpy(np_activity_train_y), requires_grad=False).float()\n",
    "\n",
    "# Initilizing other params.\n",
    "time_steps = len(input_seq)\n",
    "batch_size = 1\n",
    "input_size = 1 # Number of expected features in the input.\n",
    "hidden_dim = 100 # the leangth that I want the output to be.\n"
   ]
  },
  {
   "cell_type": "code",
   "execution_count": 20,
   "metadata": {},
   "outputs": [
    {
     "name": "stdout",
     "output_type": "stream",
     "text": [
      "<class 'pandas.core.series.Series'>\n"
     ]
    }
   ],
   "source": [
    "print(type(notnull_filter))\n",
    "\n",
    "# Model Creation.\n",
    "\n",
    "model = nn.LSTM(input_size, hidden_dim, 1)\n",
    "output_seq, _ = model(input_seq)"
   ]
  },
  {
   "cell_type": "code",
   "execution_count": 23,
   "metadata": {},
   "outputs": [
    {
     "name": "stdout",
     "output_type": "stream",
     "text": [
      "torch.Size([3])\n",
      "torch.Size([21438, 1, 100])\n",
      "torch.Size([3, 1, 100])\n"
     ]
    }
   ],
   "source": [
    "tensor_indices = torch.from_numpy(indices)\n",
    "indices_variable = Variable(tensor_indices)\n",
    "interesting_outputs = torch.index_select(output_seq, 0, indices_variable)\n",
    "\n",
    "print(indices_variable.shape)\n",
    "print(output_seq.shape)\n",
    "print(interesting_outputs.shape)"
   ]
  },
  {
   "cell_type": "code",
   "execution_count": 14,
   "metadata": {},
   "outputs": [
    {
     "name": "stdout",
     "output_type": "stream",
     "text": [
      "torch.Size([3, 1, 1])\n",
      "torch.Size([3, 1, 100])\n"
     ]
    }
   ],
   "source": [
    "linear_layer = nn.Linear(100, 5)\n",
    "\n",
    "\n",
    "\n",
    "# criterion = nn.CrossEntropyLoss()\n",
    "\n",
    "\n",
    "\n",
    "\n",
    "\n",
    "\n",
    "\n",
    "\n",
    "\n",
    "\n",
    "\n",
    "\n",
    "print(target.shape)\n",
    "print(interesting_outputs.shape)"
   ]
  },
  {
   "cell_type": "code",
   "execution_count": null,
   "metadata": {},
   "outputs": [],
   "source": []
  }
 ],
 "metadata": {
  "kernelspec": {
   "display_name": "Python 3",
   "language": "python",
   "name": "python3"
  },
  "language_info": {
   "codemirror_mode": {
    "name": "ipython",
    "version": 3
   },
   "file_extension": ".py",
   "mimetype": "text/x-python",
   "name": "python",
   "nbconvert_exporter": "python",
   "pygments_lexer": "ipython3",
   "version": "3.6.4"
  }
 },
 "nbformat": 4,
 "nbformat_minor": 2
}
