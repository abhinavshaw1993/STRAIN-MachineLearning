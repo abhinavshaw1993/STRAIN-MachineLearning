{
 "cells": [
  {
   "cell_type": "code",
   "execution_count": 1,
   "metadata": {},
   "outputs": [],
   "source": [
    "%run data_getter_and_processor.ipynb\n",
    "\n",
    "import numpy as np\n",
    "from sklearn.ensemble import ExtraTreesClassifier\n",
    "from sklearn.metrics import accuracy_score\n",
    "from sklearn.metrics import f1_score\n",
    "from IPython.display import display\n",
    "from sklearn.model_selection import GridSearchCV\n",
    "\n",
    "# Obtain Training and testing data.\n",
    "train_x, test_x, train_y, test_y = get_split_train_data(random_state=10)"
   ]
  },
  {
   "cell_type": "code",
   "execution_count": 2,
   "metadata": {},
   "outputs": [
    {
     "data": {
      "text/plain": [
       "0    2\n",
       "1    2\n",
       "2    2\n",
       "3    2\n",
       "4    2\n",
       "Name: worst_stress_level, dtype: int64"
      ]
     },
     "metadata": {},
     "output_type": "display_data"
    },
    {
     "name": "stdout",
     "output_type": "stream",
     "text": [
      "{'alpha': 0.01, 'normalize': False} -3.13613017673 Lasso(alpha=0.01, copy_X=True, fit_intercept=True, max_iter=1000,\n",
      "   normalize=False, positive=False, precompute=False, random_state=None,\n",
      "   selection='cyclic', tol=0.0001, warm_start=False)\n",
      "[ 2.19429786  2.07773406  1.75465216  2.41284397  1.70450434  2.10148546\n",
      "  1.58684509  1.7871483   2.03336594  1.78096041  1.93480843  2.43098512\n",
      "  1.88909763  2.3922531   2.20561301  2.20956253  2.14685623  2.08452172\n",
      "  2.87121352  1.87759919  1.47849376  2.26200543  1.72185561  1.82712034\n",
      "  2.05594349  1.73351652  1.77191764  1.72006878  1.42900326  2.2943976\n",
      "  1.76489825  2.11416846  2.0218629   2.10699904  2.09765375  2.15967683\n",
      "  1.57559576  2.24572598  2.08079097  1.90963254  2.39675141  1.98585806\n",
      "  2.55587704  1.93306581  1.83344029  1.8850932   1.39369498  2.39675141\n",
      "  1.94033721  1.7664617   2.06202742  1.90459255  1.56644844  1.64604263\n",
      "  1.92122103  2.44679197  2.64274465  1.58084238  1.72094912  1.49748394\n",
      "  2.22167151  2.12002896  1.77293494  1.92557778  1.83521315  2.34264135\n",
      "  2.09812509  1.98255315  2.11312881  2.24889689  1.72182021  1.89292622\n",
      "  1.89272707  1.66192295  2.94921241  1.58039988  1.82333546  1.82558846\n",
      "  1.54777878  1.35347738  2.06020677  1.71171066  1.94429776  1.60679669\n",
      "  1.90903264  1.4904315   1.86378363  1.90002958  2.34603689  1.99940511\n",
      "  2.38178713  1.9679771   2.05023256  2.17372696  2.05146683  1.84903407\n",
      "  2.01418308  2.4767514   1.64253944  2.21504742  2.30714468  1.5893676\n",
      "  1.78563746  1.8927436   1.94800334  1.6373671   2.04523785  1.62593111\n",
      "  1.77512599  1.82850531  2.22008135  2.12170635  2.35201236  1.71743461\n",
      "  1.95103578  1.97691155  2.98240094  2.33995346  1.89471432  1.73616532\n",
      "  1.57358011  2.15594872  1.77720707  1.8193497   1.82346327  2.04052951\n",
      "  1.63925434  2.21391612  1.82495315  1.77453567  1.88794668  1.98549052\n",
      "  1.86312601  1.93872047  1.55620945  2.07189233  1.83165184  2.06887728\n",
      "  1.98888566  2.03995993  1.77287023  1.99425055  1.7167551   1.89248993\n",
      "  2.3430487   1.88909453  1.8229263   1.90585649  1.87910011  1.83130858\n",
      "  1.59345948  2.06245403  1.76503253  1.85541597  1.79513063  2.24796574\n",
      "  1.60115157  2.1938452   2.20406918  1.66423663  1.72220443  2.26755124\n",
      "  1.74439201  1.60728356  1.97265766  1.81990999  1.9019471   2.14641684\n",
      "  1.77191764  1.65369088  2.12258906  2.03975226  1.96763418  2.08649058\n",
      "  1.92870298  2.34671343  2.18539514  1.87714746  2.20817858  2.04487758\n",
      "  1.92694455  2.03509847  2.15698513  2.7963008   1.95823768  2.2774767\n",
      "  1.99690783  1.95025311  1.84344816  2.28392244  1.69000686  1.73014433\n",
      "  1.48528644  1.97751576  1.87481489  1.96134862  2.16087442  2.29590729\n",
      "  1.73416155  2.28860018  1.74877744  2.05575985  1.99623496  1.76139004\n",
      "  1.80433114  2.11344299  2.05718547  1.82407146  2.2886498   1.71195195\n",
      "  1.45480424  1.94851805  1.9146535   2.09763882  2.0876235   2.21222057\n",
      "  1.95213287  1.77451582  1.59177064  1.78968648  1.89682416  1.89523613\n",
      "  1.83387561  1.52256701  2.3577922   2.36858883  2.10219847  1.63805588\n",
      "  1.83914233  2.16404549  2.48012571  1.91112686  2.06215222  2.21871555\n",
      "  2.0569077   2.19656195  1.47570961  1.49860435  1.80872273  1.96385937\n",
      "  2.00946175  1.94154714  1.73299504  1.86963139  2.04938132  1.64644722\n",
      "  1.69088427  1.76198615  2.00585268  1.80820104  1.97798374  1.86790457\n",
      "  1.78343443  2.06432084  1.67882438  1.90078066  1.88120157  2.03675927\n",
      "  2.30598507  2.10333713  2.06470161  2.06754223  2.11993704  1.97109727\n",
      "  1.84313766  2.26978881  1.73664098  1.84768842  1.9380264   2.15628879\n",
      "  2.39066256  2.0662696   1.79813433  1.51804804  1.87674534  1.59161915\n",
      "  2.34267879  1.96476728  1.8666637   1.73115858  2.20820965  1.71135441\n",
      "  1.67117759  1.71687584  2.11674399  1.9278522   2.17223611  1.91672471\n",
      "  1.68665135  1.86335441  1.45844273  2.13919194  2.19802549  2.08430906\n",
      "  1.81466216  1.90040998  2.17033049  1.9666498   2.18745382  1.68475424\n",
      "  1.91360126  1.94028284  2.0879529   1.71911401  2.01611147  1.80760393\n",
      "  1.94983603  1.2428873   2.07555398  2.3499554   1.60992548  1.55947384\n",
      "  1.65863733  1.81727451  2.06318751  1.89474133  1.95774365  1.58813423\n",
      "  1.79390723  1.92699854  2.15321979  2.22474518  1.64434265  1.80709399\n",
      "  1.91237809  2.42775341  2.45588283  1.90403787  1.9924305   2.17100075\n",
      "  1.63046477  1.86417019  1.70217039  2.14931846  1.84466967  2.52818741\n",
      "  2.14677198  2.15219215  1.97572406  1.70344325  2.25312131  1.7753649\n",
      "  1.68019691  1.85868677  1.64234771  1.965572    1.81899624  1.73698727\n",
      "  1.87479298  2.15146344  2.20847616  1.79530625  2.27208146  2.6901335\n",
      "  2.3229092   2.07927056  1.64874431  2.12526547  1.90954749  2.07149146\n",
      "  2.16395626  2.18871856  2.05037659  1.84297989  2.03442794  1.98379054\n",
      "  1.93858659  1.76395187  1.76031503  1.82352313  2.45728297  1.37817928\n",
      "  2.19199675  1.47329456  1.68165979  1.70486602  2.0723224   2.00979777\n",
      "  2.14562917  2.22795131  1.73264518  1.73137424  1.7089599   2.05798773\n",
      "  2.20567441  1.96271309  2.15828631  1.71636806]\n"
     ]
    }
   ],
   "source": [
    "from sklearn.linear_model import Lasso\n",
    "from sklearn.preprocessing import scale\n",
    "\n",
    "# Apply gridSearch to search best Random Forest model for imbalanced data for worst\n",
    "worst_stress_levels = train_y.loc[:,\"worst_stress_level\"]\n",
    "ballanced_train_x, worst_stress_levels = balance_data(train_x, worst_stress_levels) \n",
    "# ballanced_train_x = scale(ballanced_train_x)\n",
    "\n",
    "param_grid = [\n",
    "    {'alpha': [10e-3, 10e-4, 10e-5, 10e-2, 10e-1, 1, 10],\n",
    "    'normalize': [False]}\n",
    " ]\n",
    "\n",
    "display(worst_stress_levels.head())\n",
    "# print(worst_stress_levels.columns.values)\n",
    "\n",
    "clf = GridSearchCV(Lasso(), param_grid, cv=5, scoring=\"neg_mean_squared_error\", n_jobs=-1)\n",
    "clf.fit(ballanced_train_x, worst_stress_levels)\n",
    "print(clf.best_params_, clf.best_score_, clf.best_estimator_)\n",
    "\n",
    "# predicting only worst stress levels.\n",
    "estimator = clf.estimator\n",
    "estimator.fit(ballanced_train_x, worst_stress_levels)\n",
    "pred_worst_stress_levels = estimator.predict(test_x)\n",
    "\n",
    "print(pred_worst_stress_levels)"
   ]
  },
  {
   "cell_type": "code",
   "execution_count": 11,
   "metadata": {},
   "outputs": [
    {
     "name": "stdout",
     "output_type": "stream",
     "text": [
      "Worst stress levels accuracy is 42.0103092784 %\n",
      "Worst stress levels f1 SCore is [ 0.          0.10752688  0.5917603   0.          0.        ]\n"
     ]
    },
    {
     "name": "stderr",
     "output_type": "stream",
     "text": [
      "C:\\Users\\Abhinav Shaw\\Anaconda3\\lib\\site-packages\\sklearn\\metrics\\classification.py:1135: UndefinedMetricWarning: F-score is ill-defined and being set to 0.0 in labels with no predicted samples.\n",
      "  'precision', 'predicted', average, warn_for)\n"
     ]
    }
   ],
   "source": [
    "# Scoring the metrics.\n",
    "from sklearn.metrics import f1_score\n",
    "\n",
    "score = accuracy_score(test_y.loc[:,\"worst_stress_level\"], np.round(pred_worst_stress_levels), normalize=True)\n",
    "f1 = f1_score(test_y.loc[:,\"worst_stress_level\"], np.round(pred_worst_stress_levels), average=None)\n",
    "print(\"Worst stress levels accuracy is \"+ str(score * 100) + \" %\")\n",
    "print(\"Worst stress levels f1 SCore is \"+ str(f1))"
   ]
  },
  {
   "cell_type": "code",
   "execution_count": 4,
   "metadata": {},
   "outputs": [
    {
     "name": "stdout",
     "output_type": "stream",
     "text": [
      "L2_error is :  1.19457122553\n",
      "L1_error is :  0.846930967099\n"
     ]
    }
   ],
   "source": [
    "# Finding L2 error with the predicted data.\n",
    "from sklearn.metrics import mean_squared_error\n",
    "from sklearn.metrics import mean_absolute_error\n",
    "\n",
    "l2_error = mean_squared_error(y_pred=pred_worst_stress_levels, y_true=test_y.loc[:,\"worst_stress_level\"])\n",
    "l1_error = mean_absolute_error(y_pred=pred_worst_stress_levels, y_true=test_y.loc[:,\"worst_stress_level\"])\n",
    "\n",
    "print(\"L2_error is : \", l2_error)\n",
    "print(\"L1_error is : \", l1_error)"
   ]
  },
  {
   "cell_type": "code",
   "execution_count": 6,
   "metadata": {},
   "outputs": [
    {
     "name": "stdout",
     "output_type": "stream",
     "text": [
      "[ 2.  2.  2.  2.  2.  2.  2.  2.  2.  2.]\n",
      "DATE\n",
      "2013-05-07    2\n",
      "2013-04-10    4\n",
      "2013-04-15    3\n",
      "2013-05-09    2\n",
      "2013-03-30    2\n",
      "2013-05-21    2\n",
      "2013-04-08    2\n",
      "2013-03-28    2\n",
      "2013-05-01    3\n",
      "2013-04-30    0\n",
      "Name: worst_stress_level, dtype: int64\n"
     ]
    }
   ],
   "source": [
    "print(pred_worst_stress_levels[:10])\n",
    "print(test_y.loc[:,\"worst_stress_level\"].iloc[:10])"
   ]
  },
  {
   "cell_type": "code",
   "execution_count": null,
   "metadata": {},
   "outputs": [],
   "source": []
  }
 ],
 "metadata": {
  "kernelspec": {
   "display_name": "Python 3",
   "language": "python",
   "name": "python3"
  },
  "language_info": {
   "codemirror_mode": {
    "name": "ipython",
    "version": 3
   },
   "file_extension": ".py",
   "mimetype": "text/x-python",
   "name": "python",
   "nbconvert_exporter": "python",
   "pygments_lexer": "ipython3",
   "version": "3.6.4"
  }
 },
 "nbformat": 4,
 "nbformat_minor": 2
}
