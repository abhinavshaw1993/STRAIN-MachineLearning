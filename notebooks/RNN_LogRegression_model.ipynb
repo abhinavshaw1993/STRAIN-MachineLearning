{
 "cells": [
  {
   "cell_type": "code",
   "execution_count": 1,
   "metadata": {},
   "outputs": [],
   "source": [
    "# Import all required packages.\n",
    "\n",
    "from IPython.display import display\n",
    "import torch\n",
    "import torch.nn as nn\n",
    "from torch.autograd import Variable\n",
    "import torch.nn.functional as F\n",
    "import torch.optim as optim"
   ]
  },
  {
   "cell_type": "code",
   "execution_count": 2,
   "metadata": {},
   "outputs": [],
   "source": [
    "# run the notebok to get data.\n",
    "\n",
    "%run STRAIN_VariableGenerator.ipynb"
   ]
  },
  {
   "cell_type": "code",
   "execution_count": null,
   "metadata": {},
   "outputs": [],
   "source": [
    "from DataProcessorScript import generate_variables\n",
    "\n",
    "feature_list = [\n",
    "    \"activity_details\",\n",
    "    \"sms_details\",\n",
    "    \"audio_details\",\n",
    "    \"conversation_details\",\n",
    "    \"dark_details\",\n",
    "    \"phonecharge_details\",\n",
    "    \"phonelock_details\",\n",
    "    \"gps_details\"]\n",
    "\n",
    "feature_count = len(feature_list)\n",
    "feature_dict = generate_variables(feature_list=feature_list, restrict_seqlen=10)"
   ]
  },
  {
   "cell_type": "code",
   "execution_count": null,
   "metadata": {},
   "outputs": [],
   "source": [
    "input_size_list = []\n",
    "index_list = []\n",
    "input_list = []\n",
    "\n",
    "for key in feature_dict.keys():\n",
    "    input_seq, target, indices = feature_dict[key]\n",
    "    input_size_list.append(input_seq.shape[2])\n",
    "    input_list.append(input_seq)\n",
    "    index_list.append(indices)\n",
    "\n",
    "print(input_size_list, len(input_list), len(index_list))\n",
    "\n",
    "# Filling NaN Values.\n",
    "for seq in input_list:\n",
    "    nan_mask = seq != seq\n",
    "    print(nan_mask.any())\n",
    "    seq[nan_mask.detach()] = 0\n",
    "    print(type(seq))\n",
    "  "
   ]
  },
  {
   "cell_type": "code",
   "execution_count": 3,
   "metadata": {},
   "outputs": [],
   "source": [
    "# Define ModelClass\n",
    "\n",
    "class Strain(nn.Module):\n",
    "\n",
    "    def __init__(self, input_size_list, num_classes=5, hidden_dim = 100):\n",
    "        super(Strain, self).__init__()\n",
    "\n",
    "        # since input_size_list contains a list of sizes of each feature, We initialize those many RNN cells, 1 for each feature.\n",
    "        self.rnns = nn.ModuleList([nn.LSTM(input_size, hidden_dim, 1) for input_size in input_size_list])\n",
    "        self.batch_norm = nn.BatchNorm2d(len(input_size_list)*100)\n",
    "        self.linear = nn.Linear(len(input_size_list)*100, num_classes)\n",
    "\n",
    "    def forward(self, input_list, index_list):\n",
    "      \n",
    "        if len(input_list) != len(index_list):\n",
    "            print(\"mistamatching index and targets\")\n",
    "            return  \n",
    "        \n",
    "        output_list = []\n",
    "        \n",
    "        for idx, indices in enumerate(index_list):\n",
    "            y_out, _ = self.rnns[idx](input_list[idx])\n",
    "            y_out = torch.index_select(y_out, 0, index_list[idx])\n",
    "            y_out = y_out.view(y_out.shape[0], -1)\n",
    "            output_list.append(y_out)\n",
    "          \n",
    "        y_out = torch.cat(output_list, dim=1)\n",
    "        y_out = self.batch_norm(y_out)\n",
    "        y_out = self.linear(y_out)\n",
    "\n",
    "        return y_out"
   ]
  },
  {
   "cell_type": "code",
   "execution_count": 4,
   "metadata": {},
   "outputs": [],
   "source": [
    "input_seq, target, indices = generate_variables(feature_list=[\"activity_details\"], restrict_seqlen=10)[\"activity_details\"]\n",
    "\n",
    "# declaring Network.\n",
    "net = Strain(num_features=1, input_seq_len_list=[len(input_seq)])\n",
    "criterion = nn.CrossEntropyLoss(size_average=True)\n",
    "optimizer = optim.SGD(net.parameters(), 0.001)"
   ]
  },
  {
   "cell_type": "code",
   "execution_count": null,
   "metadata": {},
   "outputs": [],
   "source": [
    "# Train the network\n",
    "\n",
    "for i in range(2):\n",
    "    optimizer.zero_grad()\n",
    "    y_hat = net.forward(input_seq, indices=indices)\n",
    "    loss = criterion(y_hat, target)\n",
    "    loss.backward()\n",
    "    optimizer.step()\n",
    "    \n",
    "    print(loss)"
   ]
  },
  {
   "cell_type": "code",
   "execution_count": null,
   "metadata": {},
   "outputs": [],
   "source": [
    "print(indices)\n",
    "print(input_seq.shape)"
   ]
  },
  {
   "cell_type": "code",
   "execution_count": null,
   "metadata": {},
   "outputs": [],
   "source": [
    "x = torch.randn(300, 1, 100)\n",
    "x = Variable(x)\n",
    "y = torch.LongTensor([1,3,10])\n",
    "y = Variable(y)\n",
    "x = torch.index_select(x, 0, y)\n",
    "print(x)"
   ]
  },
  {
   "cell_type": "code",
   "execution_count": null,
   "metadata": {},
   "outputs": [],
   "source": [
    "print(y_hat)\n",
    "print(target)"
   ]
  }
 ],
 "metadata": {
  "kernelspec": {
   "display_name": "Python 3",
   "language": "python",
   "name": "python3"
  },
  "language_info": {
   "codemirror_mode": {
    "name": "ipython",
    "version": 3
   },
   "file_extension": ".py",
   "mimetype": "text/x-python",
   "name": "python",
   "nbconvert_exporter": "python",
   "pygments_lexer": "ipython3",
   "version": "3.6.4"
  }
 },
 "nbformat": 4,
 "nbformat_minor": 2
}
