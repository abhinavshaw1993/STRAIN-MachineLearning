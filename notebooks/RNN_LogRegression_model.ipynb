{
 "cells": [
  {
   "cell_type": "code",
   "execution_count": 1,
   "metadata": {},
   "outputs": [],
   "source": [
    "# Import all required packages.\n",
    "\n",
    "from IPython.display import display\n",
    "import torch\n",
    "import torch.nn as nn\n",
    "from torch.autograd import Variable\n",
    "import torch.nn.functional as F\n",
    "import torch.optim as optim"
   ]
  },
  {
   "cell_type": "code",
   "execution_count": 2,
   "metadata": {},
   "outputs": [],
   "source": [
    "# run the notebok to get data.\n",
    "\n",
    "%run STRAIN_VariableGenerator.ipynb"
   ]
  },
  {
   "cell_type": "code",
   "execution_count": 3,
   "metadata": {},
   "outputs": [],
   "source": [
    "# Define ModelClass\n",
    "\n",
    "class Strain(nn.Module):\n",
    "\n",
    "    def __init__(self, num_features, input_seq_len_list, input_size=2, num_classes=5, hidden_dim = 100):\n",
    "        super(Strain, self).__init__()\n",
    "        \n",
    "        time_steps = input_seq_len_list[0]\n",
    "        batch_size = 1\n",
    "        self.rnn1 = nn.LSTM(input_size, hidden_dim, 1) # 1 is number of layers.\n",
    "        self.linear = nn.Linear(hidden_dim, num_classes)\n",
    "\n",
    "    def forward(self, x, indices):\n",
    "        y_out, _ = self.rnn1(x)\n",
    "        y_out = torch.index_select(y_out, 0, indices)\n",
    "        y_out = y_out.view(y_out.shape[0], -1)\n",
    "        y_out = self.linear(y_out)\n",
    "        \n",
    "        return y_out\n",
    "\n",
    "#     def num_flat_features(self, x):\n",
    "#         size = x.size()[1:]  # all dimensions except the batch dimension\n",
    "#         num_features = 1\n",
    "#         for s in size:\n",
    "#             num_features *= s\n",
    "#         return num_features\n"
   ]
  },
  {
   "cell_type": "code",
   "execution_count": 4,
   "metadata": {},
   "outputs": [],
   "source": [
    "# input_seq\n",
    "# target\n",
    "# indices\n",
    "\n",
    "input_seq, target, indices = generate_variables(feature_list=[\"activity_details\"], restrict_seqlen=10)[\"activity_details\"]\n",
    "\n",
    "# declaring Network.\n",
    "net = Strain(num_features=1, input_seq_len_list=[len(input_seq)])\n",
    "criterion = nn.CrossEntropyLoss(size_average=True)\n",
    "optimizer = optim.SGD(net.parameters(), 0.001)"
   ]
  },
  {
   "cell_type": "code",
   "execution_count": null,
   "metadata": {},
   "outputs": [],
   "source": [
    "# Train the network\n",
    "\n",
    "for i in range(2):\n",
    "    optimizer.zero_grad()\n",
    "    y_hat = net.forward(input_seq, indices=indices)\n",
    "    loss = criterion(y_hat, target)\n",
    "    loss.backward()\n",
    "    optimizer.step()\n",
    "    \n",
    "    print(loss)\n",
    "    "
   ]
  },
  {
   "cell_type": "code",
   "execution_count": null,
   "metadata": {},
   "outputs": [],
   "source": [
    "print(indices)\n",
    "print(input_seq.shape)"
   ]
  },
  {
   "cell_type": "code",
   "execution_count": null,
   "metadata": {},
   "outputs": [],
   "source": [
    "x = torch.randn(300, 1, 100)\n",
    "x = Variable(x)\n",
    "y = torch.LongTensor([1,3,10])\n",
    "y = Variable(y)\n",
    "x = torch.index_select(x, 0, y)\n",
    "print(x)"
   ]
  },
  {
   "cell_type": "code",
   "execution_count": null,
   "metadata": {},
   "outputs": [],
   "source": [
    "print(y_hat)\n",
    "\n",
    "print(target)"
   ]
  },
  {
   "cell_type": "code",
   "execution_count": null,
   "metadata": {},
   "outputs": [],
   "source": []
  }
 ],
 "metadata": {
  "kernelspec": {
   "display_name": "Python 3",
   "language": "python",
   "name": "python3"
  },
  "language_info": {
   "codemirror_mode": {
    "name": "ipython",
    "version": 3
   },
   "file_extension": ".py",
   "mimetype": "text/x-python",
   "name": "python",
   "nbconvert_exporter": "python",
   "pygments_lexer": "ipython3",
   "version": "3.6.4"
  }
 },
 "nbformat": 4,
 "nbformat_minor": 2
}
