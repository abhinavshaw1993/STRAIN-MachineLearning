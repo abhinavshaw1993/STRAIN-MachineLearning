{
 "cells": [
  {
   "cell_type": "code",
   "execution_count": 3,
   "metadata": {},
   "outputs": [],
   "source": [
    "%run data_getter_and_processor.ipynb\n",
    "\n",
    "import numpy as np\n",
    "from sklearn.ensemble import RandomForestClassifier\n",
    "from sklearn.metrics import accuracy_score\n",
    "from sklearn.metrics import f1_score\n",
    "# Obtain Training and testing data.\n",
    "train_x, test_x, train_y, test_y = get_split_train_data(random_state=10)"
   ]
  },
  {
   "cell_type": "code",
   "execution_count": 12,
   "metadata": {},
   "outputs": [
    {
     "name": "stdout",
     "output_type": "stream",
     "text": [
      "{'n_estimators': 40} 0.4303097345132743 RandomForestClassifier(bootstrap=True, class_weight=None, criterion='gini',\n",
      "            max_depth=None, max_features='auto', max_leaf_nodes=None,\n",
      "            min_impurity_decrease=0.0, min_impurity_split=None,\n",
      "            min_samples_leaf=1, min_samples_split=2,\n",
      "            min_weight_fraction_leaf=0.0, n_estimators=40, n_jobs=1,\n",
      "            oob_score=False, random_state=None, verbose=0,\n",
      "            warm_start=False)\n",
      "Worst stress levels accuracy is 39.43298969072165 %\n",
      "Worst stress levels f_1 score  [0.3537415  0.18918919 0.54830287 0.21333333 0.        ]\n",
      "predicted values [3 2 3 2 1 3 3 3 3 3 3 3 3 1 3 2 3 3 1 3 3 1 2 3 3 3 3 2 3 1 2 3 2 1 1 3 1\n",
      " 3 3 1 2 2 2 4 2 1 2 1 3 1 1 4 1 3 3 3 3 1 3 3 2 3 3 3 3 3 3 2 1 2 3 3 1 3\n",
      " 2 3 2 1 1 3 3 4 3 3 3 2 3 1 2 4 1 3 3 3 1 3 1 4 1 3 1 3 2 3 2 3 3 3 2 3 3\n",
      " 1 2 3 1 2 3 3 4 1 3 2 3 3 3 3 3 1 3 2 3 1 2 3 3 3 3 4 3 1 3 3 3 2 2 2 1 1\n",
      " 2 3 3 1 2 3 2 3 2 1 1 3 3 2 3 3 1 2 3 2 2 3 3 3 3 3 3 2 1 1 3 1 1 3 3 3 3\n",
      " 3 3 3 2 3 3 1 3 3 1 2 3 3 3 2 1 3 1 3 4 4 3 1 3 3 3 2 3 2 2 3 3 4 3 3 3 2\n",
      " 1 2 3 3 3 2 3 3 2 3 2 2 3 1 3 1 3 2 2 2 3 3 1 3 2 3 3 1 3 3 3 1 3 2 1 3 3\n",
      " 3 2 3 3 2 3 1 3 3 1 3 3 2 3 3 2 1 1 2 1 4 3 1 3 2 3 1 3 2 3 3 3 3 3 3 3 3\n",
      " 3 3 3 3 1 3 4 3 2 4 4 3 3 2 3 3 3 4 4 3 3 3 3 3 2 2 3 3 2 3 2 3 4 2 3 3 3\n",
      " 3 3 3 3 3 3 3 3 3 3 3 3 3 1 3 3 1 5 4 3 2 3 2 3 3 3 2 1 3 3 3 1 3 1 3 1 3\n",
      " 2 2 1 1 1 3 3 4 2 2 3 3 3 1 2 1 3 3]\n"
     ]
    }
   ],
   "source": [
    "from sklearn.model_selection import GridSearchCV\n",
    "\n",
    "# Apply gridSearch to search best Random Forest model for imbalanced data for worst\n",
    "worst_stress_levels = train_y.loc[:,\"worst_stress_level\"]\n",
    "\n",
    "param_grid = [\n",
    "    {'n_estimators': [5, 7, 10, 15, 20, 30, 40, 50]},\n",
    "    {'max_features' : [3 ,5 ,8]},\n",
    "    {'criterion' : [\"gini\", \"entropy\"]}\n",
    " ]\n",
    "\n",
    "clf = GridSearchCV(RandomForestClassifier(), param_grid, cv=5, scoring=\"accuracy\", n_jobs=-1)\n",
    "clf.fit(train_x, worst_stress_levels)\n",
    "print(clf.best_params_, clf.best_score_, clf.best_estimator_)\n",
    "\n",
    "# predicting only worst stress levels.\n",
    "neigh = clf.estimator\n",
    "neigh.fit(train_x, worst_stress_levels)\n",
    "pred_worst_stress_levels = neigh.predict(test_x)\n",
    "\n",
    "score = accuracy_score(test_y.loc[:,\"worst_stress_level\"], pred_worst_stress_levels, normalize=True)\n",
    "f1 = f1_score(test_y.iloc[:,0], pred_worst_stress_levels, average=None)\n",
    "\n",
    "print(\"Worst stress levels accuracy is \"+ str(score * 100) + \" %\")\n",
    "print(\"Worst stress levels f_1 score \", f1)\n",
    "print(\"predicted values\", pred_worst_stress_levels)"
   ]
  },
  {
   "cell_type": "code",
   "execution_count": 13,
   "metadata": {},
   "outputs": [
    {
     "name": "stdout",
     "output_type": "stream",
     "text": [
      "{'n_estimators': 20} 0.843 RandomForestClassifier(bootstrap=True, class_weight=None, criterion='gini',\n",
      "            max_depth=None, max_features='auto', max_leaf_nodes=None,\n",
      "            min_impurity_decrease=0.0, min_impurity_split=None,\n",
      "            min_samples_leaf=1, min_samples_split=2,\n",
      "            min_weight_fraction_leaf=0.0, n_estimators=20, n_jobs=1,\n",
      "            oob_score=False, random_state=None, verbose=0,\n",
      "            warm_start=False)\n",
      "Worst stress levels accuracy is 33.24742268041237 %\n",
      "Worst stress levels f_1 score  [0.35761589 0.11347518 0.4756447  0.2020202  0.05555556]\n",
      "predicted values [4 3 5 2 2 5 3 2 3 3 3 3 3 2 3 4 3 3 1 3 1 1 1 2 1 1 3 4 1 3 2 4 2 4 1 3 1\n",
      " 2 3 1 4 1 3 2 2 2 3 1 3 1 1 4 1 4 3 2 2 1 2 1 3 3 3 3 4 3 5 2 5 2 2 5 1 3\n",
      " 3 3 3 3 3 1 3 3 1 3 5 2 1 1 2 3 2 1 2 3 4 1 1 3 1 3 1 3 3 1 2 3 3 3 3 3 5\n",
      " 1 2 4 3 2 2 3 3 3 4 2 1 1 3 5 3 1 3 3 3 3 2 3 4 2 3 4 3 3 3 1 3 3 3 3 3 3\n",
      " 2 3 3 3 3 4 2 3 3 4 2 3 3 4 3 3 3 2 3 5 2 3 3 3 1 1 2 3 1 3 3 4 1 2 1 3 4\n",
      " 3 3 3 3 2 3 1 2 3 3 1 1 4 1 2 1 3 1 3 4 2 2 1 3 2 3 2 1 2 1 3 3 4 3 5 3 1\n",
      " 1 3 4 3 3 3 3 2 4 3 3 2 3 1 3 1 3 3 3 2 2 3 4 3 2 1 2 4 2 3 1 1 3 3 1 3 3\n",
      " 3 1 3 1 2 3 3 3 3 1 2 3 3 2 4 1 3 3 3 3 1 2 1 1 3 1 3 3 2 3 2 2 1 4 3 3 3\n",
      " 1 4 3 2 4 3 3 3 5 3 3 3 3 3 3 4 3 3 4 4 5 3 3 3 2 3 4 3 3 2 2 1 4 2 1 1 3\n",
      " 3 3 3 5 3 3 3 3 3 3 3 3 1 4 4 3 4 5 2 2 2 4 1 3 1 3 2 4 3 3 3 4 3 3 1 2 3\n",
      " 2 2 3 1 1 1 3 4 2 4 3 3 3 3 2 1 3 3]\n"
     ]
    }
   ],
   "source": [
    "from sklearn.model_selection import GridSearchCV\n",
    "\n",
    "# Apply gridSearch to search best Random Forest model for Best Stress levels.\n",
    "worst_stress_levels = train_y.loc[:,\"worst_stress_level\"]\n",
    "balanced_train_x, worst_stress_levels = balance_data(train_x, worst_stress_levels)\n",
    "\n",
    "param_grid = [\n",
    "    {'n_estimators': [5, 7, 10, 15, 20, 30, 40, 50]},\n",
    "    {'max_features' : [3 ,5 ,8]},\n",
    "    {'criterion' : [\"gini\", \"entropy\"]}\n",
    " ]\n",
    "\n",
    "clf = GridSearchCV(RandomForestClassifier(), param_grid, cv=5, scoring=\"accuracy\", n_jobs=-1)\n",
    "clf.fit(balanced_train_x, worst_stress_levels)\n",
    "print(clf.best_params_, clf.best_score_, clf.best_estimator_)\n",
    "\n",
    "# predicting only worst stress levels.\n",
    "neigh = clf.estimator\n",
    "neigh.fit(balanced_train_x, worst_stress_levels)\n",
    "pred_worst_stress_levels = neigh.predict(test_x)\n",
    "\n",
    "score = accuracy_score(test_y.loc[:,\"worst_stress_level\"], pred_worst_stress_levels, normalize=True)\n",
    "f1 = f1_score(test_y.iloc[:,0], pred_worst_stress_levels, average=None)\n",
    "\n",
    "print(\"Worst stress levels accuracy is \"+ str(score * 100) + \" %\")\n",
    "print(\"Worst stress levels f_1 score \", f1)\n",
    "print(\"predicted values\", pred_worst_stress_levels)"
   ]
  }
 ],
 "metadata": {
  "kernelspec": {
   "display_name": "Python 3",
   "language": "python",
   "name": "python3"
  },
  "language_info": {
   "codemirror_mode": {
    "name": "ipython",
    "version": 3
   },
   "file_extension": ".py",
   "mimetype": "text/x-python",
   "name": "python",
   "nbconvert_exporter": "python",
   "pygments_lexer": "ipython3",
   "version": "3.6.4"
  }
 },
 "nbformat": 4,
 "nbformat_minor": 2
}
