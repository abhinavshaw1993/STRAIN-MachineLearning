{
 "cells": [
  {
   "cell_type": "code",
   "execution_count": 1,
   "metadata": {},
   "outputs": [],
   "source": [
    "%run data_getter_and_processor.ipynb\n",
    "\n",
    "import numpy as np\n",
    "from sklearn.svm import SVC\n",
    "from sklearn.metrics import accuracy_score\n",
    "from sklearn.metrics import f1_score\n",
    "from sklearn.metrics import precision_score\n",
    "from sklearn.metrics import recall_score\n",
    "from sklearn.model_selection import GridSearchCV\n",
    "\n",
    "# Obtain Training and testing data.\n",
    "train_x, test_x, train_y, test_y = get_split_train_data(random_state=10)"
   ]
  },
  {
   "cell_type": "code",
   "execution_count": 10,
   "metadata": {},
   "outputs": [
    {
     "name": "stdout",
     "output_type": "stream",
     "text": [
      "{'C': 5, 'gamma': 0.1, 'kernel': 'rbf'} 0.5922222222222222 SVC(C=5, cache_size=200, class_weight=None, coef0=0.0,\n",
      "  decision_function_shape='ovr', degree=3, gamma=0.1, kernel='rbf',\n",
      "  max_iter=-1, probability=False, random_state=None, shrinking=True,\n",
      "  tol=0.001, verbose=False)\n",
      "Worst stress levels accuracy is 42.52577319587629 %\n",
      "Worst stress levels f_1 score  [0.         0.         0.59674503 0.         0.        ]\n",
      "Worst stress levels precision score  [0.         0.         0.42525773 0.         0.        ]\n",
      "Worst stress levels recall score  [0. 0. 1. 0. 0.]\n",
      "predicted values [3 3 3 3 3 3 3 3 3 3 3 3 3 3 3 3 3 3 3 3 3 3 3 3 3 3 3 3 3 3 3 3 3 3 3 3 3\n",
      " 3 3 3 3 3 3 3 3 3 3 3 3 3 3 3 3 3 3 3 3 3 3 3 3 3 3 3 3 3 3 3 3 3 3 3 3 3\n",
      " 3 3 3 3 3 3 3 3 3 3 3 3 3 3 3 3 3 3 3 3 3 3 3 3 3 3 3 3 3 3 3 3 3 3 3 3 3\n",
      " 3 3 3 3 3 3 3 3 3 3 3 3 3 3 3 3 3 3 3 3 3 3 3 3 3 3 3 3 3 3 3 3 3 3 3 3 3\n",
      " 3 3 3 3 3 3 3 3 3 3 3 3 3 3 3 3 3 3 3 3 3 3 3 3 3 3 3 3 3 3 3 3 3 3 3 3 3\n",
      " 3 3 3 3 3 3 3 3 3 3 3 3 3 3 3 3 3 3 3 3 3 3 3 3 3 3 3 3 3 3 3 3 3 3 3 3 3\n",
      " 3 3 3 3 3 3 3 3 3 3 3 3 3 3 3 3 3 3 3 3 3 3 3 3 3 3 3 3 3 3 3 3 3 3 3 3 3\n",
      " 3 3 3 3 3 3 3 3 3 3 3 3 3 3 3 3 3 3 3 3 3 3 3 3 3 3 3 3 3 3 3 3 3 3 3 3 3\n",
      " 3 3 3 3 3 3 3 3 3 3 3 3 3 3 3 3 3 3 3 3 3 3 3 3 3 3 3 3 3 3 3 3 3 3 3 3 3\n",
      " 3 3 3 3 3 3 3 3 3 3 3 3 3 3 3 3 3 3 3 3 3 3 3 3 3 3 3 3 3 3 3 3 3 3 3 3 3\n",
      " 3 3 3 3 3 3 3 3 3 3 3 3 3 3 3 3 3 3]\n"
     ]
    },
    {
     "name": "stderr",
     "output_type": "stream",
     "text": [
      "C:\\Users\\Abhinav Shaw\\Anaconda3\\lib\\site-packages\\sklearn\\metrics\\classification.py:1135: UndefinedMetricWarning: F-score is ill-defined and being set to 0.0 in labels with no predicted samples.\n",
      "  'precision', 'predicted', average, warn_for)\n",
      "C:\\Users\\Abhinav Shaw\\Anaconda3\\lib\\site-packages\\sklearn\\metrics\\classification.py:1135: UndefinedMetricWarning: Precision is ill-defined and being set to 0.0 in labels with no predicted samples.\n",
      "  'precision', 'predicted', average, warn_for)\n"
     ]
    }
   ],
   "source": [
    "from sklearn.preprocessing import scale\n",
    "\n",
    "# Apply gridSearch to search best Random Forest model for imbalanced data for worst\n",
    "worst_stress_levels = train_y.loc[:, \"worst_stress_level\"]\n",
    "balanced_train_x, worst_stress_levels = get_balanced_dataset_by_hybrid_approach(train_x, worst_stress_levels)\n",
    "balanced_train_x = scale(balanced_train_x)\n",
    "\n",
    "param_grid = [\n",
    "    {'kernel' : ['rbf'],\n",
    "     'C' : [1,3,5],\n",
    "     'gamma' : [0.1, 0.01 ,0.001, 0.0001, 0.00001]},\n",
    "    \n",
    "    {'kernel' : ['poly'],\n",
    "     'C' : [1,3,5],\n",
    "     'gamma' : [0.01 ,0.001, 0.0001],\n",
    "     'degree': [2, 3, 5],\n",
    "     'cache_size' :[1000]\n",
    "    }\n",
    "  ]\n",
    "\n",
    "# param_grid = [\n",
    "#     {'kernel' : ['poly'],\n",
    "#      'C' : [1],\n",
    "#      'gamma' : [0.001],\n",
    "#      'degree': [2, 3, 5],\n",
    "#      'cache_size' :[1000]   }\n",
    "#   ]\n",
    "\n",
    "clf = GridSearchCV(SVC(), param_grid, cv=5, scoring=\"accuracy\", n_jobs=-1)\n",
    "clf.fit(balanced_train_x, worst_stress_levels)\n",
    "print(clf.best_params_, clf.best_score_, clf.best_estimator_)\n",
    "\n",
    "# predicting only worst stress levels.\n",
    "neigh = clf.estimator\n",
    "neigh.fit(balanced_train_x, worst_stress_levels)\n",
    "pred_worst_stress_levels = neigh.predict(test_x)\n",
    "\n",
    "score = accuracy_score(test_y.loc[:,\"worst_stress_level\"], pred_worst_stress_levels, normalize=True)\n",
    "f1 = f1_score(test_y.iloc[:,0], pred_worst_stress_levels, average=None)\n",
    "p_score = precision_score(test_y.iloc[:,0], pred_worst_stress_levels, average=None)\n",
    "r_score = recall_score(test_y.iloc[:,0], pred_worst_stress_levels, average=None)\n",
    "\n",
    "print(\"Worst stress levels accuracy is \"+ str(score * 100) + \" %\")\n",
    "print(\"Worst stress levels f_1 score \", f1)\n",
    "print(\"Worst stress levels precision score \", p_score)\n",
    "print(\"Worst stress levels recall score \", r_score)\n",
    "print(\"predicted values\", pred_worst_stress_levels)"
   ]
  }
 ],
 "metadata": {
  "kernelspec": {
   "display_name": "Python 3",
   "language": "python",
   "name": "python3"
  },
  "language_info": {
   "codemirror_mode": {
    "name": "ipython",
    "version": 3
   },
   "file_extension": ".py",
   "mimetype": "text/x-python",
   "name": "python",
   "nbconvert_exporter": "python",
   "pygments_lexer": "ipython3",
   "version": "3.6.4"
  }
 },
 "nbformat": 4,
 "nbformat_minor": 2
}
