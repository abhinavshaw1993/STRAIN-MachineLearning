{
 "cells": [
  {
   "cell_type": "code",
   "execution_count": 50,
   "metadata": {},
   "outputs": [],
   "source": [
    "%run data_getter_and_processor.ipynb\n",
    "\n",
    "import numpy as np\n",
    "from sklearn.neighbors import KNeighborsClassifier\n",
    "from sklearn.metrics import accuracy_score\n",
    "from sklearn.metrics import f1_score\n",
    "# Obtain Training and testing data.\n",
    "train_x, test_x, train_y, test_y = get_split_train_data(random_state=10)\n"
   ]
  },
  {
   "cell_type": "code",
   "execution_count": 93,
   "metadata": {},
   "outputs": [
    {
     "name": "stdout",
     "output_type": "stream",
     "text": [
      "{'n_neighbors': 3} 0.6925 KNeighborsClassifier(algorithm='auto', leaf_size=30, metric='minkowski',\n",
      "           metric_params=None, n_jobs=1, n_neighbors=3, p=2,\n",
      "           weights='uniform')\n",
      "Worst stress levels accuracy is 25.0 %\n",
      "Worst stress levels f_1 score  [0.21428571 0.23952096 0.35245902 0.1958042  0.07407407]\n"
     ]
    }
   ],
   "source": [
    "from sklearn.model_selection import GridSearchCV\n",
    "\n",
    "# Apply gridSearch to search best KNN model for Best Stress levels.\n",
    "worst_stress_levels = train_y.loc[:,\"worst_stress_level\"]\n",
    "balanced_train_x, worst_stress_levels = balance_data(train_x, worst_stress_levels)\n",
    "\n",
    "param_grid = [\n",
    "  {'n_neighbors': [3, 5, 7, 10, 20]},\n",
    " ]\n",
    "\n",
    "clf = GridSearchCV(KNeighborsClassifier(), param_grid, cv=5, scoring=\"accuracy\")\n",
    "clf.fit(balanced_train_x, worst_stress_levels)\n",
    "print(clf.best_params_, clf.best_score_, clf.best_estimator_)\n",
    "\n",
    "# predicting only worst stress levels.\n",
    "neigh = clf.estimator\n",
    "neigh.fit(balanced_train_x, worst_stress_levels)\n",
    "pred_worst_stress_levels = neigh.predict(test_x)\n",
    "\n",
    "score = accuracy_score(test_y.loc[:,\"worst_stress_level\"], pred_worst_stress_levels, normalize=True)\n",
    "f1 = f1_score(test_y.iloc[:,0], pred_worst_stress_levels, average=None)\n",
    "\n",
    "print(\"Worst stress levels accuracy is \"+ str(score * 100) + \" %\")\n",
    "print(\"Worst stress levels f_1 score \", f1)"
   ]
  },
  {
   "cell_type": "code",
   "execution_count": 94,
   "metadata": {},
   "outputs": [
    {
     "name": "stdout",
     "output_type": "stream",
     "text": [
      "{'n_neighbors': 3} 0.6922680412371134 KNeighborsClassifier(algorithm='auto', leaf_size=30, metric='minkowski',\n",
      "           metric_params=None, n_jobs=1, n_neighbors=3, p=2,\n",
      "           weights='uniform')\n",
      "Best stress levels accuracy is 22.938144329896907 %\n",
      "Worst stress levels f_1 score  [0.21333333 0.2        0.296      0.12598425 0.12658228]\n"
     ]
    }
   ],
   "source": [
    "# Fixing Balancing of the train splits.\n",
    "best_stress_level = train_y.loc[:,\"best_stress_level\"]\n",
    "balanced_train_x, best_stress_level = balance_data(train_x, best_stress_levels)\n",
    "\n",
    "param_grid = [\n",
    "  {'n_neighbors': [3, 5, 7, 10, 20]},\n",
    " ]\n",
    "\n",
    "clf = GridSearchCV(KNeighborsClassifier(), param_grid, cv=5, scoring=\"accuracy\")\n",
    "clf.fit(balanced_train_x, best_stress_level)\n",
    "print(clf.best_params_, clf.best_score_, clf.best_estimator_)\n",
    "\n",
    "# predicting only only best stress levels.\n",
    "neigh = clf.estimator\n",
    "neigh.fit(balanced_train_x, best_stress_level)\n",
    "pred_best_stress_level = neigh.predict(test_x)\n",
    "\n",
    "score = accuracy_score(test_y.loc[:,\"best_stress_level\"], pred_best_stress_level, normalize=True)\n",
    "f1 = f1_score(test_y.iloc[:,0], pred_best_stress_level, average=None)\n",
    "\n",
    "print(\"Best stress levels accuracy is \"+ str(score * 100) + \" %\")\n",
    "print(\"Worst stress levels f_1 score \", f1)"
   ]
  }
 ],
 "metadata": {
  "kernelspec": {
   "display_name": "Python 3",
   "language": "python",
   "name": "python3"
  },
  "language_info": {
   "codemirror_mode": {
    "name": "ipython",
    "version": 3
   },
   "file_extension": ".py",
   "mimetype": "text/x-python",
   "name": "python",
   "nbconvert_exporter": "python",
   "pygments_lexer": "ipython3",
   "version": "3.6.4"
  }
 },
 "nbformat": 4,
 "nbformat_minor": 2
}
