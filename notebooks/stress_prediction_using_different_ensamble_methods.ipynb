{
 "cells": [
  {
   "cell_type": "code",
   "execution_count": 3,
   "metadata": {},
   "outputs": [],
   "source": [
    "%run data_getter_and_processor.ipynb\n",
    "\n",
    "import numpy as np\n",
    "from sklearn.ensemble import ExtraTreesClassifier\n",
    "from sklearn.metrics import accuracy_score\n",
    "from sklearn.metrics import f1_score\n",
    "\n",
    "# Obtain Training and testing data.\n",
    "train_x, test_x, train_y, test_y = get_split_train_data(random_state=10)"
   ]
  },
  {
   "cell_type": "code",
   "execution_count": 4,
   "metadata": {},
   "outputs": [
    {
     "name": "stdout",
     "output_type": "stream",
     "text": [
      "{'n_estimators': 50} 0.4225663716814159 ExtraTreesClassifier(bootstrap=False, class_weight=None, criterion='gini',\n",
      "           max_depth=None, max_features='auto', max_leaf_nodes=None,\n",
      "           min_impurity_decrease=0.0, min_impurity_split=None,\n",
      "           min_samples_leaf=1, min_samples_split=2,\n",
      "           min_weight_fraction_leaf=0.0, n_estimators=50, n_jobs=1,\n",
      "           oob_score=False, random_state=None, verbose=0, warm_start=False)\n",
      "Worst stress levels accuracy is 38.144329896907216 %\n",
      "Worst stress levels f_1 score  [0.34437086 0.18181818 0.53846154 0.14457831 0.        ]\n",
      "predicted values [3 2 5 3 3 3 3 2 3 3 3 3 3 1 2 4 5 3 3 3 1 1 3 1 1 3 1 3 5 3 3 3 2 3 4 3 1\n",
      " 3 3 3 1 1 3 3 2 3 2 2 3 1 1 3 3 3 3 3 1 3 3 1 3 3 3 3 4 3 5 2 3 3 3 3 1 2\n",
      " 3 3 3 3 2 2 3 3 2 3 5 2 1 3 1 3 3 1 3 3 2 3 2 4 1 2 1 3 2 4 3 3 3 3 3 3 3\n",
      " 2 4 3 1 1 3 3 3 1 3 3 1 3 3 1 3 1 1 2 3 3 3 2 3 2 3 4 3 3 3 3 2 2 3 3 3 1\n",
      " 2 3 3 3 3 1 3 3 3 4 1 1 3 3 3 3 2 2 3 2 1 3 3 3 3 3 3 1 1 3 3 3 3 3 3 2 4\n",
      " 4 2 3 3 3 3 1 1 3 1 1 3 3 2 1 3 3 1 3 4 3 3 1 3 1 3 2 2 3 3 3 3 3 2 5 4 1\n",
      " 1 1 4 3 3 3 3 3 3 3 3 1 3 3 4 1 3 3 3 3 2 2 1 1 2 1 3 3 2 5 3 1 1 3 3 4 3\n",
      " 2 1 3 3 2 3 3 3 1 3 3 3 3 3 3 2 3 3 1 3 3 2 1 2 3 3 4 3 2 3 3 3 1 3 3 3 1\n",
      " 1 4 3 1 1 1 3 3 1 4 3 3 3 3 3 1 3 3 4 4 3 3 3 3 2 3 3 3 3 2 3 1 4 3 3 1 1\n",
      " 3 3 4 3 3 3 3 3 1 3 3 1 1 5 4 3 3 1 3 2 2 5 3 3 3 3 1 4 2 3 3 3 3 1 3 3 3\n",
      " 2 3 3 3 2 3 3 4 3 1 4 1 3 1 2 1 3 4]\n"
     ]
    }
   ],
   "source": [
    "from sklearn.model_selection import GridSearchCV\n",
    "\n",
    "# Apply gridSearch to search best Random Forest model for imbalanced data for worst\n",
    "worst_stress_levels = train_y.loc[:,\"worst_stress_level\"]\n",
    "\n",
    "param_grid = [\n",
    "    {'n_estimators': [5, 7, 10, 15, 20, 30, 40, 50]},\n",
    "    {'max_features' : [3 ,5 ,8, 10, 13]},\n",
    "    {'criterion' : [\"gini\", \"entropy\"]}\n",
    " ]\n",
    "\n",
    "clf = GridSearchCV(ExtraTreesClassifier(), param_grid, cv=5, scoring=\"accuracy\", n_jobs=-1)\n",
    "clf.fit(train_x, worst_stress_levels)\n",
    "print(clf.best_params_, clf.best_score_, clf.best_estimator_)\n",
    "\n",
    "# predicting only worst stress levels.\n",
    "neigh = clf.estimator\n",
    "neigh.fit(train_x, worst_stress_levels)\n",
    "pred_worst_stress_levels = neigh.predict(test_x)\n",
    "\n",
    "score = accuracy_score(test_y.loc[:,\"worst_stress_level\"], pred_worst_stress_levels, normalize=True)\n",
    "f1 = f1_score(test_y.iloc[:,0], pred_worst_stress_levels, average=None)\n",
    "\n",
    "print(\"Worst stress levels accuracy is \"+ str(score * 100) + \" %\")\n",
    "print(\"Worst stress levels f_1 score \", f1)\n",
    "print(\"predicted values\", pred_worst_stress_levels)"
   ]
  }
 ],
 "metadata": {
  "kernelspec": {
   "display_name": "Python 3",
   "language": "python",
   "name": "python3"
  },
  "language_info": {
   "codemirror_mode": {
    "name": "ipython",
    "version": 3
   },
   "file_extension": ".py",
   "mimetype": "text/x-python",
   "name": "python",
   "nbconvert_exporter": "python",
   "pygments_lexer": "ipython3",
   "version": "3.6.4"
  }
 },
 "nbformat": 4,
 "nbformat_minor": 2
}
