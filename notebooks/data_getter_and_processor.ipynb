{
 "cells": [
  {
   "cell_type": "code",
   "execution_count": 6,
   "metadata": {
    "scrolled": true
   },
   "outputs": [],
   "source": [
    "import pandas as pd\n",
    "from IPython.display import display, HTML\n",
    "import numpy as np\n",
    "from sklearn.utils import resample\n",
    "\n",
    "# Create a connection with SQL server to get data.\n",
    "def exec_sql_query(procedure, *param):\n",
    "    \n",
    "    from sqlalchemy import create_engine\n",
    "    import urllib\n",
    "    params = urllib.parse.quote_plus(\"DRIVER={SQL Server Native Client 11.0};SERVER=LAPTOP-C3LFVOFI;DATABASE=student_life;UID=student_sense;PWD=abhinav123\")\n",
    "    engine = create_engine(\"mssql+pyodbc:///?odbc_connect=%s\" % params)\n",
    "    connection = engine.raw_connection()\n",
    "    \n",
    "    try:\n",
    "        cursor = connection.cursor()\n",
    "        if(param):\n",
    "            cursor.execute(procedure, [param[0]])\n",
    "        else : \n",
    "            cursor.execute(procedure)\n",
    "            \n",
    "        results = cursor.fetchall()\n",
    "        columns = [column[0] for column in cursor.description]\n",
    "        df = pd.DataFrame.from_records(results, columns=columns)\n",
    "        cursor.close()\n",
    "        connection.commit()\n",
    "    finally:\n",
    "        connection.close()\n",
    "    \n",
    "    del engine\n",
    "    return df"
   ]
  },
  {
   "cell_type": "code",
   "execution_count": 7,
   "metadata": {},
   "outputs": [],
   "source": [
    "def get_training_data():\n",
    "    # Function to return data from tables.\n",
    "    # returns train_x and train_y.\n",
    "\n",
    "    # Getting details for all students.\n",
    "    training_data = exec_sql_query(\"Exec get_train_x_new\")\n",
    "    # display(training_data.head())\n",
    "\n",
    "    # Dropping NULL columns as they are not usefull and setting index to DATE.\n",
    "    row_count = len(training_data)\n",
    "    training_data_n_null = training_data.dropna(axis=1, how=\"all\")\n",
    "    training_data_n_null.set_index(\"DATE\", inplace=True)\n",
    "    training_data_n_null.fillna(0, inplace=True)\n",
    "    # display(training_data_n_null.head())\n",
    "    \n",
    "    # splitting int train_x and train_y\n",
    "    train_x = training_data_n_null.iloc[:,:-3]\n",
    "    train_y = training_data_n_null.iloc[:,-3:]\n",
    "    \n",
    "    return train_x, train_y"
   ]
  },
  {
   "cell_type": "code",
   "execution_count": 8,
   "metadata": {},
   "outputs": [],
   "source": [
    "# Returning Stratafied training and test data.\n",
    "\n",
    "from sklearn.model_selection import train_test_split\n",
    "\n",
    "def get_split_train_data(x=None, y=None, test_size=0.30, random_state=100, balance_data=True):\n",
    "\n",
    "    # fucntion to return training and test data sthrough splitting\n",
    "    if not x and not y:\n",
    "        x, y = get_training_data()\n",
    "    \n",
    "    train_x, test_x, train_y, test_y = train_test_split(x, y, test_size=test_size, random_state=random_state, shuffle=True)\n",
    "    \n",
    "    return train_x, test_x, train_y, test_y"
   ]
  },
  {
   "cell_type": "code",
   "execution_count": 11,
   "metadata": {},
   "outputs": [],
   "source": [
    "def balance_data(train_x, train_y):\n",
    "    \n",
    "    # Converting to Data Frame\n",
    "    train_df = pd.concat([train_x, train_y], axis=1)\n",
    "    # Separating in minority and majority class.\n",
    "    dominant_class = train_df.iloc[:,-1].value_counts().idxmax()\n",
    "    \n",
    "    # now we resamples for every class. making the value equal to that of the dominant class.\n",
    "    classes = list(pd.unique(train_y))\n",
    "    classes.remove(dominant_class)\n",
    "    major_df = train_df[train_df.iloc[:,-1] == dominant_class]\n",
    "    major_class_count = len(major_df)\n",
    "    result_df = major_df.copy()\n",
    "    \n",
    "    for c in classes:\n",
    "        minor_df = train_df[train_df.iloc[:,-1] == c]\n",
    "        resampled_minor = resample(minor_df, replace=True, n_samples=major_class_count, random_state=123)\n",
    "        result_df = result_df.append(resampled_minor, ignore_index=True)\n",
    "    \n",
    "    return result_df.iloc[:,:-1] ,result_df.iloc[:,-1] \n",
    "     \n",
    "    \n",
    "    "
   ]
  }
 ],
 "metadata": {
  "kernelspec": {
   "display_name": "Python 3",
   "language": "python",
   "name": "python3"
  },
  "language_info": {
   "codemirror_mode": {
    "name": "ipython",
    "version": 3
   },
   "file_extension": ".py",
   "mimetype": "text/x-python",
   "name": "python",
   "nbconvert_exporter": "python",
   "pygments_lexer": "ipython3",
   "version": "3.6.4"
  }
 },
 "nbformat": 4,
 "nbformat_minor": 2
}
